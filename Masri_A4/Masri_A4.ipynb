{
  "cells": [
    {
      "cell_type": "markdown",
      "metadata": {
        "id": "iBkOEcnqJ8Kt"
      },
      "source": [
        "## Explorating the Tree of Life\n",
        "\n",
        "<table><tr><td>\n",
        "<img src=\"https://i.guim.co.uk/img/static/sys-images/Guardian/Pix/pictures/2008/04/17/DarwinSketch.article.jpg?width=445&quality=85&auto=format&fit=max&s=c7f89552d12b8495b2b4eb4d7a5bc391\" width=200><a href=\"https://i.guim.co.uk/img/static/sys-images/Guardian/Pix/pictures/2008/04/17/DarwinSketch.article.jpg?width=445&quality=85&auto=format&fit=max&s=c7f89552d12b8495b2b4eb4d7a5bc391\">source</a></td><td><img src=\"http://www.greennature.ca/greennature/taxonomy/tree_of_life.png\" width=300><a href=\"http://www.greennature.ca/greennature/taxonomy/tree_of_life.png\">source</a></td></tr></table>"
      ]
    },
    {
      "cell_type": "markdown",
      "metadata": {
        "id": "zlq_EnyFJ8Kv"
      },
      "source": [
        "In this hands-on exercise, you answer the following questions by using pandas data structures and methods to analyze the eukaryote genome data store in the following tab-delimited file. https://raw.githubusercontent.com/csbfx/advpy122-data/master/euk.tsv"
      ]
    },
    {
      "cell_type": "code",
      "execution_count": 2,
      "metadata": {
        "id": "5ap-dlxTJ8Kw",
        "outputId": "69a40308-8fbc-4cc0-de56-9f8c53f9c26c",
        "colab": {
          "base_uri": "https://localhost:8080/",
          "height": 652
        }
      },
      "outputs": [
        {
          "output_type": "execute_result",
          "data": {
            "text/plain": [
              "                         Species   Kingdom           Class   Size (Mb)  \\\n",
              "0     Emiliania huxleyi CCMP1516  Protists  Other Protists  167.676000   \n",
              "1           Arabidopsis thaliana    Plants     Land Plants  119.669000   \n",
              "2                    Glycine max    Plants     Land Plants  979.046000   \n",
              "3            Medicago truncatula    Plants     Land Plants  412.924000   \n",
              "4           Solanum lycopersicum    Plants     Land Plants  828.349000   \n",
              "...                          ...       ...             ...         ...   \n",
              "8297    Saccharomyces cerevisiae     Fungi     Ascomycetes    3.993920   \n",
              "8298    Saccharomyces cerevisiae     Fungi     Ascomycetes    0.586761   \n",
              "8299    Saccharomyces cerevisiae     Fungi     Ascomycetes   12.020400   \n",
              "8300    Saccharomyces cerevisiae     Fungi     Ascomycetes   11.960900   \n",
              "8301    Saccharomyces cerevisiae     Fungi     Ascomycetes   11.820700   \n",
              "\n",
              "          GC% Number of genes Number of proteins  Publication year  \\\n",
              "0        64.5           38549              38554              2013   \n",
              "1     36.0529           38311              48265              2001   \n",
              "2     35.1153           59847              71219              2010   \n",
              "3      34.047           37603              41939              2011   \n",
              "4     35.6991           31200              37660              2010   \n",
              "...       ...             ...                ...               ...   \n",
              "8297     38.2               -                  -              2017   \n",
              "8298  38.5921             155                298              1992   \n",
              "8299  38.2971               -                  -              2018   \n",
              "8300  38.2413               -                  -              2018   \n",
              "8301  38.2536               -                  -              2018   \n",
              "\n",
              "     Assembly status  \n",
              "0           Scaffold  \n",
              "1         Chromosome  \n",
              "2         Chromosome  \n",
              "3         Chromosome  \n",
              "4         Chromosome  \n",
              "...              ...  \n",
              "8297        Scaffold  \n",
              "8298      Chromosome  \n",
              "8299      Chromosome  \n",
              "8300      Chromosome  \n",
              "8301      Chromosome  \n",
              "\n",
              "[8302 rows x 9 columns]"
            ],
            "text/html": [
              "\n",
              "  <div id=\"df-659e9d0b-72a0-4131-bdaa-e039823dc1e1\" class=\"colab-df-container\">\n",
              "    <div>\n",
              "<style scoped>\n",
              "    .dataframe tbody tr th:only-of-type {\n",
              "        vertical-align: middle;\n",
              "    }\n",
              "\n",
              "    .dataframe tbody tr th {\n",
              "        vertical-align: top;\n",
              "    }\n",
              "\n",
              "    .dataframe thead th {\n",
              "        text-align: right;\n",
              "    }\n",
              "</style>\n",
              "<table border=\"1\" class=\"dataframe\">\n",
              "  <thead>\n",
              "    <tr style=\"text-align: right;\">\n",
              "      <th></th>\n",
              "      <th>Species</th>\n",
              "      <th>Kingdom</th>\n",
              "      <th>Class</th>\n",
              "      <th>Size (Mb)</th>\n",
              "      <th>GC%</th>\n",
              "      <th>Number of genes</th>\n",
              "      <th>Number of proteins</th>\n",
              "      <th>Publication year</th>\n",
              "      <th>Assembly status</th>\n",
              "    </tr>\n",
              "  </thead>\n",
              "  <tbody>\n",
              "    <tr>\n",
              "      <th>0</th>\n",
              "      <td>Emiliania huxleyi CCMP1516</td>\n",
              "      <td>Protists</td>\n",
              "      <td>Other Protists</td>\n",
              "      <td>167.676000</td>\n",
              "      <td>64.5</td>\n",
              "      <td>38549</td>\n",
              "      <td>38554</td>\n",
              "      <td>2013</td>\n",
              "      <td>Scaffold</td>\n",
              "    </tr>\n",
              "    <tr>\n",
              "      <th>1</th>\n",
              "      <td>Arabidopsis thaliana</td>\n",
              "      <td>Plants</td>\n",
              "      <td>Land Plants</td>\n",
              "      <td>119.669000</td>\n",
              "      <td>36.0529</td>\n",
              "      <td>38311</td>\n",
              "      <td>48265</td>\n",
              "      <td>2001</td>\n",
              "      <td>Chromosome</td>\n",
              "    </tr>\n",
              "    <tr>\n",
              "      <th>2</th>\n",
              "      <td>Glycine max</td>\n",
              "      <td>Plants</td>\n",
              "      <td>Land Plants</td>\n",
              "      <td>979.046000</td>\n",
              "      <td>35.1153</td>\n",
              "      <td>59847</td>\n",
              "      <td>71219</td>\n",
              "      <td>2010</td>\n",
              "      <td>Chromosome</td>\n",
              "    </tr>\n",
              "    <tr>\n",
              "      <th>3</th>\n",
              "      <td>Medicago truncatula</td>\n",
              "      <td>Plants</td>\n",
              "      <td>Land Plants</td>\n",
              "      <td>412.924000</td>\n",
              "      <td>34.047</td>\n",
              "      <td>37603</td>\n",
              "      <td>41939</td>\n",
              "      <td>2011</td>\n",
              "      <td>Chromosome</td>\n",
              "    </tr>\n",
              "    <tr>\n",
              "      <th>4</th>\n",
              "      <td>Solanum lycopersicum</td>\n",
              "      <td>Plants</td>\n",
              "      <td>Land Plants</td>\n",
              "      <td>828.349000</td>\n",
              "      <td>35.6991</td>\n",
              "      <td>31200</td>\n",
              "      <td>37660</td>\n",
              "      <td>2010</td>\n",
              "      <td>Chromosome</td>\n",
              "    </tr>\n",
              "    <tr>\n",
              "      <th>...</th>\n",
              "      <td>...</td>\n",
              "      <td>...</td>\n",
              "      <td>...</td>\n",
              "      <td>...</td>\n",
              "      <td>...</td>\n",
              "      <td>...</td>\n",
              "      <td>...</td>\n",
              "      <td>...</td>\n",
              "      <td>...</td>\n",
              "    </tr>\n",
              "    <tr>\n",
              "      <th>8297</th>\n",
              "      <td>Saccharomyces cerevisiae</td>\n",
              "      <td>Fungi</td>\n",
              "      <td>Ascomycetes</td>\n",
              "      <td>3.993920</td>\n",
              "      <td>38.2</td>\n",
              "      <td>-</td>\n",
              "      <td>-</td>\n",
              "      <td>2017</td>\n",
              "      <td>Scaffold</td>\n",
              "    </tr>\n",
              "    <tr>\n",
              "      <th>8298</th>\n",
              "      <td>Saccharomyces cerevisiae</td>\n",
              "      <td>Fungi</td>\n",
              "      <td>Ascomycetes</td>\n",
              "      <td>0.586761</td>\n",
              "      <td>38.5921</td>\n",
              "      <td>155</td>\n",
              "      <td>298</td>\n",
              "      <td>1992</td>\n",
              "      <td>Chromosome</td>\n",
              "    </tr>\n",
              "    <tr>\n",
              "      <th>8299</th>\n",
              "      <td>Saccharomyces cerevisiae</td>\n",
              "      <td>Fungi</td>\n",
              "      <td>Ascomycetes</td>\n",
              "      <td>12.020400</td>\n",
              "      <td>38.2971</td>\n",
              "      <td>-</td>\n",
              "      <td>-</td>\n",
              "      <td>2018</td>\n",
              "      <td>Chromosome</td>\n",
              "    </tr>\n",
              "    <tr>\n",
              "      <th>8300</th>\n",
              "      <td>Saccharomyces cerevisiae</td>\n",
              "      <td>Fungi</td>\n",
              "      <td>Ascomycetes</td>\n",
              "      <td>11.960900</td>\n",
              "      <td>38.2413</td>\n",
              "      <td>-</td>\n",
              "      <td>-</td>\n",
              "      <td>2018</td>\n",
              "      <td>Chromosome</td>\n",
              "    </tr>\n",
              "    <tr>\n",
              "      <th>8301</th>\n",
              "      <td>Saccharomyces cerevisiae</td>\n",
              "      <td>Fungi</td>\n",
              "      <td>Ascomycetes</td>\n",
              "      <td>11.820700</td>\n",
              "      <td>38.2536</td>\n",
              "      <td>-</td>\n",
              "      <td>-</td>\n",
              "      <td>2018</td>\n",
              "      <td>Chromosome</td>\n",
              "    </tr>\n",
              "  </tbody>\n",
              "</table>\n",
              "<p>8302 rows × 9 columns</p>\n",
              "</div>\n",
              "    <div class=\"colab-df-buttons\">\n",
              "\n",
              "  <div class=\"colab-df-container\">\n",
              "    <button class=\"colab-df-convert\" onclick=\"convertToInteractive('df-659e9d0b-72a0-4131-bdaa-e039823dc1e1')\"\n",
              "            title=\"Convert this dataframe to an interactive table.\"\n",
              "            style=\"display:none;\">\n",
              "\n",
              "  <svg xmlns=\"http://www.w3.org/2000/svg\" height=\"24px\" viewBox=\"0 -960 960 960\">\n",
              "    <path d=\"M120-120v-720h720v720H120Zm60-500h600v-160H180v160Zm220 220h160v-160H400v160Zm0 220h160v-160H400v160ZM180-400h160v-160H180v160Zm440 0h160v-160H620v160ZM180-180h160v-160H180v160Zm440 0h160v-160H620v160Z\"/>\n",
              "  </svg>\n",
              "    </button>\n",
              "\n",
              "  <style>\n",
              "    .colab-df-container {\n",
              "      display:flex;\n",
              "      gap: 12px;\n",
              "    }\n",
              "\n",
              "    .colab-df-convert {\n",
              "      background-color: #E8F0FE;\n",
              "      border: none;\n",
              "      border-radius: 50%;\n",
              "      cursor: pointer;\n",
              "      display: none;\n",
              "      fill: #1967D2;\n",
              "      height: 32px;\n",
              "      padding: 0 0 0 0;\n",
              "      width: 32px;\n",
              "    }\n",
              "\n",
              "    .colab-df-convert:hover {\n",
              "      background-color: #E2EBFA;\n",
              "      box-shadow: 0px 1px 2px rgba(60, 64, 67, 0.3), 0px 1px 3px 1px rgba(60, 64, 67, 0.15);\n",
              "      fill: #174EA6;\n",
              "    }\n",
              "\n",
              "    .colab-df-buttons div {\n",
              "      margin-bottom: 4px;\n",
              "    }\n",
              "\n",
              "    [theme=dark] .colab-df-convert {\n",
              "      background-color: #3B4455;\n",
              "      fill: #D2E3FC;\n",
              "    }\n",
              "\n",
              "    [theme=dark] .colab-df-convert:hover {\n",
              "      background-color: #434B5C;\n",
              "      box-shadow: 0px 1px 3px 1px rgba(0, 0, 0, 0.15);\n",
              "      filter: drop-shadow(0px 1px 2px rgba(0, 0, 0, 0.3));\n",
              "      fill: #FFFFFF;\n",
              "    }\n",
              "  </style>\n",
              "\n",
              "    <script>\n",
              "      const buttonEl =\n",
              "        document.querySelector('#df-659e9d0b-72a0-4131-bdaa-e039823dc1e1 button.colab-df-convert');\n",
              "      buttonEl.style.display =\n",
              "        google.colab.kernel.accessAllowed ? 'block' : 'none';\n",
              "\n",
              "      async function convertToInteractive(key) {\n",
              "        const element = document.querySelector('#df-659e9d0b-72a0-4131-bdaa-e039823dc1e1');\n",
              "        const dataTable =\n",
              "          await google.colab.kernel.invokeFunction('convertToInteractive',\n",
              "                                                    [key], {});\n",
              "        if (!dataTable) return;\n",
              "\n",
              "        const docLinkHtml = 'Like what you see? Visit the ' +\n",
              "          '<a target=\"_blank\" href=https://colab.research.google.com/notebooks/data_table.ipynb>data table notebook</a>'\n",
              "          + ' to learn more about interactive tables.';\n",
              "        element.innerHTML = '';\n",
              "        dataTable['output_type'] = 'display_data';\n",
              "        await google.colab.output.renderOutput(dataTable, element);\n",
              "        const docLink = document.createElement('div');\n",
              "        docLink.innerHTML = docLinkHtml;\n",
              "        element.appendChild(docLink);\n",
              "      }\n",
              "    </script>\n",
              "  </div>\n",
              "\n",
              "\n",
              "<div id=\"df-4e7238ab-9f3d-475f-bbc3-f1bf16f94528\">\n",
              "  <button class=\"colab-df-quickchart\" onclick=\"quickchart('df-4e7238ab-9f3d-475f-bbc3-f1bf16f94528')\"\n",
              "            title=\"Suggest charts\"\n",
              "            style=\"display:none;\">\n",
              "\n",
              "<svg xmlns=\"http://www.w3.org/2000/svg\" height=\"24px\"viewBox=\"0 0 24 24\"\n",
              "     width=\"24px\">\n",
              "    <g>\n",
              "        <path d=\"M19 3H5c-1.1 0-2 .9-2 2v14c0 1.1.9 2 2 2h14c1.1 0 2-.9 2-2V5c0-1.1-.9-2-2-2zM9 17H7v-7h2v7zm4 0h-2V7h2v10zm4 0h-2v-4h2v4z\"/>\n",
              "    </g>\n",
              "</svg>\n",
              "  </button>\n",
              "\n",
              "<style>\n",
              "  .colab-df-quickchart {\n",
              "      --bg-color: #E8F0FE;\n",
              "      --fill-color: #1967D2;\n",
              "      --hover-bg-color: #E2EBFA;\n",
              "      --hover-fill-color: #174EA6;\n",
              "      --disabled-fill-color: #AAA;\n",
              "      --disabled-bg-color: #DDD;\n",
              "  }\n",
              "\n",
              "  [theme=dark] .colab-df-quickchart {\n",
              "      --bg-color: #3B4455;\n",
              "      --fill-color: #D2E3FC;\n",
              "      --hover-bg-color: #434B5C;\n",
              "      --hover-fill-color: #FFFFFF;\n",
              "      --disabled-bg-color: #3B4455;\n",
              "      --disabled-fill-color: #666;\n",
              "  }\n",
              "\n",
              "  .colab-df-quickchart {\n",
              "    background-color: var(--bg-color);\n",
              "    border: none;\n",
              "    border-radius: 50%;\n",
              "    cursor: pointer;\n",
              "    display: none;\n",
              "    fill: var(--fill-color);\n",
              "    height: 32px;\n",
              "    padding: 0;\n",
              "    width: 32px;\n",
              "  }\n",
              "\n",
              "  .colab-df-quickchart:hover {\n",
              "    background-color: var(--hover-bg-color);\n",
              "    box-shadow: 0 1px 2px rgba(60, 64, 67, 0.3), 0 1px 3px 1px rgba(60, 64, 67, 0.15);\n",
              "    fill: var(--button-hover-fill-color);\n",
              "  }\n",
              "\n",
              "  .colab-df-quickchart-complete:disabled,\n",
              "  .colab-df-quickchart-complete:disabled:hover {\n",
              "    background-color: var(--disabled-bg-color);\n",
              "    fill: var(--disabled-fill-color);\n",
              "    box-shadow: none;\n",
              "  }\n",
              "\n",
              "  .colab-df-spinner {\n",
              "    border: 2px solid var(--fill-color);\n",
              "    border-color: transparent;\n",
              "    border-bottom-color: var(--fill-color);\n",
              "    animation:\n",
              "      spin 1s steps(1) infinite;\n",
              "  }\n",
              "\n",
              "  @keyframes spin {\n",
              "    0% {\n",
              "      border-color: transparent;\n",
              "      border-bottom-color: var(--fill-color);\n",
              "      border-left-color: var(--fill-color);\n",
              "    }\n",
              "    20% {\n",
              "      border-color: transparent;\n",
              "      border-left-color: var(--fill-color);\n",
              "      border-top-color: var(--fill-color);\n",
              "    }\n",
              "    30% {\n",
              "      border-color: transparent;\n",
              "      border-left-color: var(--fill-color);\n",
              "      border-top-color: var(--fill-color);\n",
              "      border-right-color: var(--fill-color);\n",
              "    }\n",
              "    40% {\n",
              "      border-color: transparent;\n",
              "      border-right-color: var(--fill-color);\n",
              "      border-top-color: var(--fill-color);\n",
              "    }\n",
              "    60% {\n",
              "      border-color: transparent;\n",
              "      border-right-color: var(--fill-color);\n",
              "    }\n",
              "    80% {\n",
              "      border-color: transparent;\n",
              "      border-right-color: var(--fill-color);\n",
              "      border-bottom-color: var(--fill-color);\n",
              "    }\n",
              "    90% {\n",
              "      border-color: transparent;\n",
              "      border-bottom-color: var(--fill-color);\n",
              "    }\n",
              "  }\n",
              "</style>\n",
              "\n",
              "  <script>\n",
              "    async function quickchart(key) {\n",
              "      const quickchartButtonEl =\n",
              "        document.querySelector('#' + key + ' button');\n",
              "      quickchartButtonEl.disabled = true;  // To prevent multiple clicks.\n",
              "      quickchartButtonEl.classList.add('colab-df-spinner');\n",
              "      try {\n",
              "        const charts = await google.colab.kernel.invokeFunction(\n",
              "            'suggestCharts', [key], {});\n",
              "      } catch (error) {\n",
              "        console.error('Error during call to suggestCharts:', error);\n",
              "      }\n",
              "      quickchartButtonEl.classList.remove('colab-df-spinner');\n",
              "      quickchartButtonEl.classList.add('colab-df-quickchart-complete');\n",
              "    }\n",
              "    (() => {\n",
              "      let quickchartButtonEl =\n",
              "        document.querySelector('#df-4e7238ab-9f3d-475f-bbc3-f1bf16f94528 button');\n",
              "      quickchartButtonEl.style.display =\n",
              "        google.colab.kernel.accessAllowed ? 'block' : 'none';\n",
              "    })();\n",
              "  </script>\n",
              "</div>\n",
              "\n",
              "  <div id=\"id_a6c33cda-48c8-4e6a-a9cf-6c020f08e123\">\n",
              "    <style>\n",
              "      .colab-df-generate {\n",
              "        background-color: #E8F0FE;\n",
              "        border: none;\n",
              "        border-radius: 50%;\n",
              "        cursor: pointer;\n",
              "        display: none;\n",
              "        fill: #1967D2;\n",
              "        height: 32px;\n",
              "        padding: 0 0 0 0;\n",
              "        width: 32px;\n",
              "      }\n",
              "\n",
              "      .colab-df-generate:hover {\n",
              "        background-color: #E2EBFA;\n",
              "        box-shadow: 0px 1px 2px rgba(60, 64, 67, 0.3), 0px 1px 3px 1px rgba(60, 64, 67, 0.15);\n",
              "        fill: #174EA6;\n",
              "      }\n",
              "\n",
              "      [theme=dark] .colab-df-generate {\n",
              "        background-color: #3B4455;\n",
              "        fill: #D2E3FC;\n",
              "      }\n",
              "\n",
              "      [theme=dark] .colab-df-generate:hover {\n",
              "        background-color: #434B5C;\n",
              "        box-shadow: 0px 1px 3px 1px rgba(0, 0, 0, 0.15);\n",
              "        filter: drop-shadow(0px 1px 2px rgba(0, 0, 0, 0.3));\n",
              "        fill: #FFFFFF;\n",
              "      }\n",
              "    </style>\n",
              "    <button class=\"colab-df-generate\" onclick=\"generateWithVariable('euk')\"\n",
              "            title=\"Generate code using this dataframe.\"\n",
              "            style=\"display:none;\">\n",
              "\n",
              "  <svg xmlns=\"http://www.w3.org/2000/svg\" height=\"24px\"viewBox=\"0 0 24 24\"\n",
              "       width=\"24px\">\n",
              "    <path d=\"M7,19H8.4L18.45,9,17,7.55,7,17.6ZM5,21V16.75L18.45,3.32a2,2,0,0,1,2.83,0l1.4,1.43a1.91,1.91,0,0,1,.58,1.4,1.91,1.91,0,0,1-.58,1.4L9.25,21ZM18.45,9,17,7.55Zm-12,3A5.31,5.31,0,0,0,4.9,8.1,5.31,5.31,0,0,0,1,6.5,5.31,5.31,0,0,0,4.9,4.9,5.31,5.31,0,0,0,6.5,1,5.31,5.31,0,0,0,8.1,4.9,5.31,5.31,0,0,0,12,6.5,5.46,5.46,0,0,0,6.5,12Z\"/>\n",
              "  </svg>\n",
              "    </button>\n",
              "    <script>\n",
              "      (() => {\n",
              "      const buttonEl =\n",
              "        document.querySelector('#id_a6c33cda-48c8-4e6a-a9cf-6c020f08e123 button.colab-df-generate');\n",
              "      buttonEl.style.display =\n",
              "        google.colab.kernel.accessAllowed ? 'block' : 'none';\n",
              "\n",
              "      buttonEl.onclick = () => {\n",
              "        google.colab.notebook.generateWithVariable('euk');\n",
              "      }\n",
              "      })();\n",
              "    </script>\n",
              "  </div>\n",
              "\n",
              "    </div>\n",
              "  </div>\n"
            ],
            "application/vnd.google.colaboratory.intrinsic+json": {
              "type": "dataframe",
              "variable_name": "euk",
              "summary": "{\n  \"name\": \"euk\",\n  \"rows\": 8302,\n  \"fields\": [\n    {\n      \"column\": \"Species\",\n      \"properties\": {\n        \"dtype\": \"string\",\n        \"num_unique_values\": 4936,\n        \"samples\": [\n          \"Mrakia blollopis\",\n          \"Toxoplasma gondii TgCATBr5\",\n          \"Drosophila grimshawi\"\n        ],\n        \"semantic_type\": \"\",\n        \"description\": \"\"\n      }\n    },\n    {\n      \"column\": \"Kingdom\",\n      \"properties\": {\n        \"dtype\": \"category\",\n        \"num_unique_values\": 5,\n        \"samples\": [\n          \"Plants\",\n          \"Other\",\n          \"Fungi\"\n        ],\n        \"semantic_type\": \"\",\n        \"description\": \"\"\n      }\n    },\n    {\n      \"column\": \"Class\",\n      \"properties\": {\n        \"dtype\": \"category\",\n        \"num_unique_values\": 19,\n        \"samples\": [\n          \"Other Protists\",\n          \"Apicomplexans\",\n          \"Mammals\"\n        ],\n        \"semantic_type\": \"\",\n        \"description\": \"\"\n      }\n    },\n    {\n      \"column\": \"Size (Mb)\",\n      \"properties\": {\n        \"dtype\": \"number\",\n        \"std\": 1111.5382890873323,\n        \"min\": 0.011236,\n        \"max\": 32396.4,\n        \"num_unique_values\": 8203,\n        \"samples\": [\n          42.713,\n          4.9454,\n          43.5021\n        ],\n        \"semantic_type\": \"\",\n        \"description\": \"\"\n      }\n    },\n    {\n      \"column\": \"GC%\",\n      \"properties\": {\n        \"dtype\": \"category\",\n        \"num_unique_values\": 1857,\n        \"samples\": [\n          \"27.9\",\n          \"36.7747\",\n          \"40.1912\"\n        ],\n        \"semantic_type\": \"\",\n        \"description\": \"\"\n      }\n    },\n    {\n      \"column\": \"Number of genes\",\n      \"properties\": {\n        \"dtype\": \"category\",\n        \"num_unique_values\": 2239,\n        \"samples\": [\n          \"17642\",\n          \"40259\",\n          \"8569\"\n        ],\n        \"semantic_type\": \"\",\n        \"description\": \"\"\n      }\n    },\n    {\n      \"column\": \"Number of proteins\",\n      \"properties\": {\n        \"dtype\": \"category\",\n        \"num_unique_values\": 2214,\n        \"samples\": [\n          \"19503\",\n          \"11966\",\n          \"11491\"\n        ],\n        \"semantic_type\": \"\",\n        \"description\": \"\"\n      }\n    },\n    {\n      \"column\": \"Publication year\",\n      \"properties\": {\n        \"dtype\": \"number\",\n        \"std\": 2,\n        \"min\": 1992,\n        \"max\": 2019,\n        \"num_unique_values\": 23,\n        \"samples\": [\n          2008,\n          2003,\n          2013\n        ],\n        \"semantic_type\": \"\",\n        \"description\": \"\"\n      }\n    },\n    {\n      \"column\": \"Assembly status\",\n      \"properties\": {\n        \"dtype\": \"category\",\n        \"num_unique_values\": 4,\n        \"samples\": [\n          \"Chromosome\",\n          \"Contig\",\n          \"Scaffold\"\n        ],\n        \"semantic_type\": \"\",\n        \"description\": \"\"\n      }\n    }\n  ]\n}"
            }
          },
          "metadata": {},
          "execution_count": 2
        }
      ],
      "source": [
        "import pandas as pd\n",
        "%matplotlib inline\n",
        "\n",
        "# this input file is tab-delimited instead of comma-delimited\n",
        "tsvFile = \"https://raw.githubusercontent.com/csbfx/advpy122-data/master/euk.tsv\"\n",
        "# Load the csv file into a dataframe\n",
        "euk = pd.read_csv(tsvFile, sep=\"\\t\")\n",
        "euk"
      ]
    },
    {
      "cell_type": "markdown",
      "metadata": {
        "id": "8Z2GVGoBJ8Ky"
      },
      "source": [
        "## Q1. How many Mammals have at least 20,000 genes? What are their scientific names?\n",
        "*Note:*\n",
        "- *Mammals are under Class*\n",
        "- *Scientific names are under Species*\n"
      ]
    },
    {
      "cell_type": "code",
      "execution_count": 3,
      "metadata": {
        "id": "hmDqV-67J8Ky",
        "colab": {
          "base_uri": "https://localhost:8080/"
        },
        "outputId": "613bcf11-271d-49b4-b7e8-4a58682b8234"
      },
      "outputs": [
        {
          "output_type": "stream",
          "name": "stdout",
          "text": [
            "There are 134 mammals that have at least 20000 genes. Their scientific names are ['Homo sapiens', 'Mus musculus', 'Rattus norvegicus', 'Felis catus', 'Bos taurus', 'Ovis aries', 'Canis lupus familiaris', 'Sus scrofa', 'Ornithorhynchus anatinus', 'Equus caballus', 'Pan troglodytes', 'Macaca mulatta', 'Monodelphis domestica', 'Loxodonta africana', 'Sorex araneus', 'Erinaceus europaeus', 'Cavia porcellus', 'Echinops telfairi', 'Dasypus novemcinctus', 'Oryctolagus cuniculus', 'Pongo abelii', 'Canis lupus dingo', 'Papio anubis', 'Callithrix jacchus', 'Otolemur garnettii', 'Ictidomys tridecemlineatus', 'Nomascus leucogenys', 'Myotis lucifugus', 'Pteropus vampyrus', 'Tursiops truncatus', 'Microcebus murinus', 'Dipodomys ordii', 'Macaca fascicularis', 'Ochotona princeps', 'Bubalus bubalis', 'Galeopterus variegatus', 'Vicugna pacos', 'Gorilla gorilla gorilla', 'Ailuropoda melanoleuca', 'Cricetulus griseus', 'Sarcophilus harrisii', 'Mustela putorius furo', 'Bos indicus', 'Odocoileus virginianus texanus', 'Saimiri boliviensis boliviensis', 'Heterocephalus glaber', 'Equus asinus', 'Vombatus ursinus', 'Eumetopias jubatus', 'Rousettus aegyptiacus', 'Rhinopithecus roxellana', 'Vulpes vulpes', 'Neomonachus schauinslandi', 'Callorhinus ursinus', 'Enhydra lutris kenyoni', 'Gulo gulo', 'Panthera pardus', 'Bison bison bison', 'Castor canadensis', 'Rhinopithecus bieti', 'Chinchilla lanigera', 'Leptonychotes weddellii', 'Pan paniscus', 'Capra hircus', 'Camelus dromedarius', 'Camelus bactrianus', 'Jaculus jaculus', 'Balaenoptera acutorostrata scammoni', 'Pantholops hodgsonii', 'Cervus elaphus hippelaphus', 'Panthera tigris altaica', 'Microtus ochrogaster', 'Condylura cristata', 'Peromyscus maniculatus bairdii', 'Eptesicus fuscus', 'Orycteropus afer afer', 'Chrysochloris asiatica', 'Octodon degus', 'Elephantulus edwardii', 'Camelus ferus', 'Mesocricetus auratus', 'Pteropus alecto', 'Puma concolor', 'Nannospalax galili', 'Tupaia chinensis', 'Physeter catodon', 'Chlorocebus sabaeus', 'Urocitellus parryii', 'Delphinapterus leucas', 'Macaca nemestrina', 'Cercocebus atys', 'Zalophus californianus', 'Odobenus rosmarus divergens', 'Orcinus orca', 'Aotus nancymaae', 'Acinonyx jubatus', 'Myotis davidii', 'Lipotes vexillifer', 'Hipposideros armiger', 'Desmodus rotundus', 'Theropithecus gelada', 'Fukomys damarensis', 'Ursus maritimus', 'Myotis brandtii', 'Bos mutus', 'Phascolarctos cinereus', 'Ursus arctos horribilis', 'Meriones unguiculatus', 'Propithecus coquereli', 'Trichechus manatus latirostris', 'Ceratotherium simum simum', 'Equus przewalskii', 'Mus caroli', 'Neophocaena asiaeorientalis asiaeorientalis', 'Marmota marmota marmota', 'Mandrillus leucophaeus', 'Colobus angolensis palliatus', 'Manis javanica', 'Miniopterus natalensis', 'Cebus capucinus imitator', 'Carlito syrichta', 'Mus pahari', 'Lagenorhynchus obliquidens', 'Piliocolobus tephrosceles', 'Bos indicus x Bos taurus', 'Marmota flaviventris', 'Heterocephalus glaber', 'Cricetulus griseus', 'Bos taurus', 'Rattus norvegicus', 'Macaca mulatta', 'Macaca fascicularis', 'Cricetulus griseus', 'Mus musculus'].\n",
            "44             Homo sapiens\n",
            "45             Mus musculus\n",
            "65        Rattus norvegicus\n",
            "70              Felis catus\n",
            "74               Bos taurus\n",
            "               ...         \n",
            "4977      Rattus norvegicus\n",
            "5087         Macaca mulatta\n",
            "5152    Macaca fascicularis\n",
            "5180     Cricetulus griseus\n",
            "6781           Mus musculus\n",
            "Name: Species, Length: 134, dtype: object\n"
          ]
        }
      ],
      "source": [
        "# Your code here . . .\n",
        "mammals = euk[euk['Class'] == 'Mammals'].copy()\n",
        "mammals['Number of genes'] = pd.to_numeric(mammals['Number of genes'], errors = 'coerce')\n",
        "mammals_20000_genes = mammals[mammals['Number of genes'] >= 20000]\n",
        "scientific_names = mammals_20000_genes['Species']\n",
        "print(f\"There are {len(scientific_names)} mammals that have at least 20000 genes. Their scientific names are {scientific_names.tolist()}.\")\n",
        "print(scientific_names)"
      ]
    },
    {
      "cell_type": "markdown",
      "metadata": {
        "id": "rGumzDISJ8Kz"
      },
      "source": [
        "### Q2. Animals are a part of Kingdom. How many records are there for each Class of Animals?"
      ]
    },
    {
      "cell_type": "code",
      "execution_count": 4,
      "metadata": {
        "id": "32JhePXNJ8K0",
        "colab": {
          "base_uri": "https://localhost:8080/"
        },
        "outputId": "f50988df-94b0-48f0-b54f-7e2c85c8a310"
      },
      "outputs": [
        {
          "output_type": "stream",
          "name": "stdout",
          "text": [
            "For each class of animals, there are this many records: \n",
            "Class\n",
            "Mammals          658\n",
            "Insects          602\n",
            "Fishes           282\n",
            "Other Animals    210\n",
            "Birds            172\n",
            "Roundworms       162\n",
            "Flatworms         47\n",
            "Reptiles          41\n",
            "Amphibians         7\n",
            "Name: count, dtype: int64\n"
          ]
        }
      ],
      "source": [
        "# Your code here . . .\n",
        "animals = euk[euk['Kingdom'] == 'Animals']\n",
        "class_num = animals['Class'].value_counts()\n",
        "print('For each class of animals, there are this many records: ')\n",
        "print(class_num)"
      ]
    },
    {
      "cell_type": "markdown",
      "metadata": {
        "id": "CVl99HmAJ8K0"
      },
      "source": [
        "### Q3. Animals are a part of Kingdom. How many unique Species are there for each Class of Animals?"
      ]
    },
    {
      "cell_type": "code",
      "execution_count": 5,
      "metadata": {
        "id": "k21_L0DxJ8K1",
        "colab": {
          "base_uri": "https://localhost:8080/"
        },
        "outputId": "0a03b0be-a2e9-4edd-8c21-bbe583642b0e"
      },
      "outputs": [
        {
          "output_type": "stream",
          "name": "stdout",
          "text": [
            "For each class of animals there are this many unique species: \n",
            "Class\n",
            "Amphibians       [Xenopus tropicalis, Xenopus laevis, Ambystoma...\n",
            "Birds            [Gallus gallus, Meleagris gallopavo, Coturnix ...\n",
            "Fishes           [Danio rerio, Takifugu rubripes, Gasterosteus ...\n",
            "Flatworms        [Schmidtea mediterranea, Schistosoma mansoni, ...\n",
            "Insects          [Aedes aegypti, Aedes albopictus, Anopheles ga...\n",
            "Mammals          [Homo sapiens, Mus musculus, Rattus norvegicus...\n",
            "Other Animals    [Ciona intestinalis, Ciona savignyi, Branchios...\n",
            "Reptiles         [Anolis carolinensis, Sphenodon punctatus, Pog...\n",
            "Roundworms       [Caenorhabditis briggsae, Caenorhabditis elega...\n",
            "Name: Species, dtype: object\n"
          ]
        }
      ],
      "source": [
        "# Your code here . . .\n",
        "animals = euk[euk['Kingdom'] == 'Animals']\n",
        "unique_species = animals.groupby('Class')['Species'].unique()\n",
        "print(\"For each class of animals there are this many unique species: \")\n",
        "print(unique_species)"
      ]
    },
    {
      "cell_type": "markdown",
      "metadata": {
        "id": "GM7drElwJ8K2"
      },
      "source": [
        "### Q4. What are the unique scientific names of Mammals with the genus name Macaca?\n",
        "*Recall: the scientific name starts with genus followed by a space and then the species name. Example: Homo sapiens, where Homo is the genus name and sapiens is the species name.*"
      ]
    },
    {
      "cell_type": "code",
      "execution_count": 7,
      "metadata": {
        "id": "p201a7g3J8K2",
        "colab": {
          "base_uri": "https://localhost:8080/"
        },
        "outputId": "47e0acd3-2d3b-4565-efee-051170e4a557"
      },
      "outputs": [
        {
          "output_type": "stream",
          "name": "stdout",
          "text": [
            "Here are the unique scientific names of Mammals with the genus name Macaca: \n",
            "['Macaca mulatta' 'Macaca fascicularis' 'Macaca nemestrina'\n",
            " 'Macaca fuscata fuscata']\n"
          ]
        }
      ],
      "source": [
        "# Your code here . . .\n",
        "mammals = euk[euk['Class'] == 'Mammals'].copy()\n",
        "mammals['Genus'] = mammals['Species'].str.split().str[0]\n",
        "macaca_name = mammals[mammals['Genus'] == 'Macaca']\n",
        "unique_names = macaca_name['Species'].unique()\n",
        "print('Here are the unique scientific names of Mammals with the genus name Macaca: ')\n",
        "print(unique_names)"
      ]
    },
    {
      "cell_type": "markdown",
      "metadata": {
        "id": "E0xOV7Q5J8K3"
      },
      "source": [
        "### Q5. Modify the Species names to only contain the scientific names  and create a new dataframe.\n",
        "\n",
        "Some of the names in the Species column have more than two parts, such as `Emiliania huxleyi CCMP1516`. Create a new column `Species` that contains only the first two parts of name, such as `Emiliania huxleyi`. Combine this new Species column with `Kingdom`, `Class`, `Size (Mb)`, `Number of genes`, and `Number of proteins` and store this new dataframe as `df_species`.\n",
        "\n",
        "Hint: Follow Q3 in Lecture 4 with a little twist. Instead of just getting the first element from the split results, you will get the first two elements using `.str[0:2]` which will give you a list. You can then use `.str.join(\" \")` to change it back to a string."
      ]
    },
    {
      "cell_type": "code",
      "execution_count": 15,
      "metadata": {
        "scrolled": true,
        "id": "y5fftb5nJ8K3",
        "colab": {
          "base_uri": "https://localhost:8080/"
        },
        "outputId": "e86f5c14-cc59-43b9-bf66-ff2435b34d9d"
      },
      "outputs": [
        {
          "output_type": "stream",
          "name": "stdout",
          "text": [
            "       Kingdom           Class Species   Size (Mb) Number of genes  \\\n",
            "0     Protists  Other Protists       M  167.676000           38549   \n",
            "1       Plants     Land Plants     NaN  119.669000           38311   \n",
            "2       Plants     Land Plants     NaN  979.046000           59847   \n",
            "3       Plants     Land Plants     NaN  412.924000           37603   \n",
            "4       Plants     Land Plants     NaN  828.349000           31200   \n",
            "...        ...             ...     ...         ...             ...   \n",
            "8297     Fungi     Ascomycetes     NaN    3.993920               -   \n",
            "8298     Fungi     Ascomycetes     NaN    0.586761             155   \n",
            "8299     Fungi     Ascomycetes     NaN   12.020400               -   \n",
            "8300     Fungi     Ascomycetes     NaN   11.960900               -   \n",
            "8301     Fungi     Ascomycetes     NaN   11.820700               -   \n",
            "\n",
            "     Number of proteins  \n",
            "0                 38554  \n",
            "1                 48265  \n",
            "2                 71219  \n",
            "3                 41939  \n",
            "4                 37660  \n",
            "...                 ...  \n",
            "8297                  -  \n",
            "8298                298  \n",
            "8299                  -  \n",
            "8300                  -  \n",
            "8301                  -  \n",
            "\n",
            "[8302 rows x 6 columns]\n"
          ]
        }
      ],
      "source": [
        "# Your code here . . .\n",
        "euk['Species'] = euk['Species'].str.split().str[:2].str.join(' ')\n",
        "df_species = euk[['Kingdom', 'Class', 'Species', 'Size (Mb)', 'Number of genes', 'Number of proteins']]\n",
        "print(df_species)"
      ]
    },
    {
      "cell_type": "markdown",
      "metadata": {
        "id": "scEqHzdtJ8K4"
      },
      "source": [
        "### Q6. Create a pie plot using pandas to show the number of unique Species in each Class of Animals using the new dataframe you created in Q5\n",
        "Hint: First, create a new dataframe that contains the number of unique Species and the index is the corresponding Animals Class. Then, use that dataframe to plot the pie plot.\n",
        "[Check out this documentation](https://pandas.pydata.org/pandas-docs/stable/reference/api/pandas.DataFrame.plot.pie.html)"
      ]
    },
    {
      "cell_type": "code",
      "execution_count": 16,
      "metadata": {
        "id": "J68Euje-J8K5",
        "colab": {
          "base_uri": "https://localhost:8080/"
        },
        "outputId": "c30666a3-92a2-4d18-ca61-ee041d9fa519"
      },
      "outputs": [
        {
          "output_type": "stream",
          "name": "stdout",
          "text": [
            "                Unique Species Count\n",
            "Class                               \n",
            "Amphibians                         0\n",
            "Apicomplexans                     37\n",
            "Ascomycetes                       48\n",
            "Basidiomycetes                    36\n",
            "Birds                             11\n",
            "Fishes                             3\n",
            "Flatworms                          0\n",
            "Green Algae                       17\n",
            "Insects                           17\n",
            "Kinetoplasts                      18\n",
            "Land Plants                        9\n",
            "Mammals                           17\n",
            "Other                              6\n",
            "Other Animals                      4\n",
            "Other Fungi                       29\n",
            "Other Plants                       0\n",
            "Other Protists                    30\n",
            "Reptiles                           3\n",
            "Roundworms                         5\n"
          ]
        }
      ],
      "source": [
        "# Create a new dataframe that contains the number of unique Species and\n",
        "# the index is the corresponding Animals Class.\n",
        "\n",
        "# Your code here . . .\n",
        "import pandas as pd\n",
        "df_unique_species = df_species.groupby('Class')['Species'].nunique().reset_index()\n",
        "df_unique_species.columns = ['Class', 'Unique Species Count']\n",
        "df_unique_species.set_index('Class', inplace = True)\n",
        "print(df_unique_species)\n"
      ]
    },
    {
      "cell_type": "code",
      "execution_count": 19,
      "metadata": {
        "id": "E6z0SAooJ8K5",
        "colab": {
          "base_uri": "https://localhost:8080/",
          "height": 574
        },
        "outputId": "bb64defd-3333-4348-af5d-e754c447aba4"
      },
      "outputs": [
        {
          "output_type": "display_data",
          "data": {
            "text/plain": [
              "<Figure size 800x800 with 1 Axes>"
            ],
            "image/png": "[encoded data removed]"
          },
          "metadata": {}
        }
      ],
      "source": [
        "# Create a panda pie plot using the dataframe above\n",
        "\n",
        "# Your code here . . .\n",
        "import matplotlib.pyplot as plt\n",
        "\n",
        "df_unique_species.plot.pie(y='Unique Species Count', autopct='%1.1f%%', figsize=(8, 8), startangle=90, legend=False)\n",
        "plt.title('Pie plot of Unique Species in Each Class of Animals')\n",
        "plt.ylabel('')\n",
        "plt.show()"
      ]
    }
  ],
  "metadata": {
    "kernelspec": {
      "display_name": "Python 3",
      "language": "python",
      "name": "python3"
    },
    "language_info": {
      "codemirror_mode": {
        "name": "ipython",
        "version": 3
      },
      "file_extension": ".py",
      "mimetype": "text/x-python",
      "name": "python",
      "nbconvert_exporter": "python",
      "pygments_lexer": "ipython3",
      "version": "3.7.6"
    },
    "colab": {
      "provenance": []
    }
  },
  "nbformat": 4,
  "nbformat_minor": 0
}